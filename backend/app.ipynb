{
 "cells": [
  {
   "cell_type": "code",
   "execution_count": 1,
   "metadata": {},
   "outputs": [],
   "source": [
    "\n",
    "import warnings\n",
    "from langchain.document_loaders import HuggingFaceDatasetLoader\n",
    "from langchain.text_splitter import RecursiveCharacterTextSplitter\n",
    "from langchain.embeddings import HuggingFaceEmbeddings\n",
    "from langchain.vectorstores import FAISS\n",
    "from transformers import AutoTokenizer, AutoModelForQuestionAnswering, pipeline\n",
    "from langchain import HuggingFacePipeline\n",
    "from langchain.chains import RetrievalQA\n",
    "import requests\n",
    "import gradio as gr\n",
    "\n",
    "import os\n",
    "from flask import Flask, request, jsonify\n",
    "\n",
    "from langchain.schema import Document"
   ]
  },
  {
   "cell_type": "code",
   "execution_count": 2,
   "metadata": {},
   "outputs": [],
   "source": [
    "\n",
    "# Directory constants\n",
    "MODEL_DIR = 'models'\n",
    "EMBEDDINGS_DIR = os.path.join(MODEL_DIR, 'embeddings')\n",
    "QA_MODEL_DIR = os.path.join(MODEL_DIR, 'qa')\n",
    "DATA_DIR = 'data'\n",
    "WP_POSTS_DIR = os.path.join(DATA_DIR, 'wordpress_posts')\n",
    "UTILS_DIR = 'utils'\n",
    "\n",
    "# Create directories if they don't exist\n",
    "os.makedirs(EMBEDDINGS_DIR, exist_ok=True)\n",
    "os.makedirs(QA_MODEL_DIR, exist_ok=True)\n",
    "os.makedirs(WP_POSTS_DIR, exist_ok=True)\n",
    "os.makedirs(UTILS_DIR, exist_ok=True)\n",
    "\n",
    "# Constants for models and dataset\n",
    "DATASET_NAME = \"databricks/databricks-dolly-15k\"\n",
    "PAGE_CONTENT_COLUMN = \"context\"\n",
    "EMBEDDING_MODEL_PATH = \"sentence-transformers/all-MiniLM-l6-v2\"\n",
    "QA_MODEL_NAME = \"Intel/dynamic_tinybert\"\n",
    "BASE_URL = \"https://techcrunch.com\"\n",
    "\n"
   ]
  },
  {
   "cell_type": "code",
   "execution_count": 3,
   "metadata": {},
   "outputs": [],
   "source": [
    "\n",
    "# Initialize Flask app\n",
    "app = Flask(__name__)"
   ]
  },
  {
   "cell_type": "code",
   "execution_count": 4,
   "metadata": {},
   "outputs": [
    {
     "name": "stderr",
     "output_type": "stream",
     "text": [
      "c:\\Users\\Sameer Sonwane\\AppData\\Local\\Programs\\Python\\Python311\\Lib\\site-packages\\datasets\\load.py:2554: FutureWarning: 'use_auth_token' was deprecated in favor of 'token' in version 2.14.0 and will be removed in 3.0.0.\n",
      "You can remove this warning by passing 'token=<use_auth_token>' instead.\n",
      "  warnings.warn(\n"
     ]
    }
   ],
   "source": [
    "\n",
    "# Load dataset and split it into manageable chunks\n",
    "loader = HuggingFaceDatasetLoader(DATASET_NAME, PAGE_CONTENT_COLUMN)\n",
    "data = loader.load()"
   ]
  },
  {
   "cell_type": "code",
   "execution_count": 5,
   "metadata": {},
   "outputs": [],
   "source": [
    "\n",
    "text_splitter = RecursiveCharacterTextSplitter(chunk_size=1000, chunk_overlap=150)\n",
    "docs = text_splitter.split_documents(data)\n"
   ]
  },
  {
   "cell_type": "code",
   "execution_count": 6,
   "metadata": {},
   "outputs": [
    {
     "name": "stderr",
     "output_type": "stream",
     "text": [
      "c:\\Users\\Sameer Sonwane\\AppData\\Local\\Programs\\Python\\Python311\\Lib\\site-packages\\langchain_core\\_api\\deprecation.py:139: LangChainDeprecationWarning: The class `HuggingFaceEmbeddings` was deprecated in LangChain 0.2.2 and will be removed in 0.3.0. An updated version of the class exists in the langchain-huggingface package and should be used instead. To use it run `pip install -U langchain-huggingface` and import as `from langchain_huggingface import HuggingFaceEmbeddings`.\n",
      "  warn_deprecated(\n"
     ]
    }
   ],
   "source": [
    "\n",
    "# Set up embeddings and vector store\n",
    "embeddings = HuggingFaceEmbeddings(model_name=EMBEDDING_MODEL_PATH, model_kwargs={'device': 'cpu'}, encode_kwargs={'normalize_embeddings': False})\n",
    "db = FAISS.from_documents(docs, embeddings)\n"
   ]
  },
  {
   "cell_type": "code",
   "execution_count": 10,
   "metadata": {},
   "outputs": [],
   "source": [
    "\n",
    "# Set up question-answering model\n",
    "tokenizer = AutoTokenizer.from_pretrained(QA_MODEL_NAME)\n",
    "model = AutoModelForQuestionAnswering.from_pretrained(QA_MODEL_NAME)\n",
    "question_answerer = pipeline(\"question-answering\", model=model, tokenizer=tokenizer, return_tensors='pt')\n",
    "llm = HuggingFacePipeline(pipeline=question_answerer, model_kwargs={\"temperature\": 0.7, \"max_length\": 512})\n"
   ]
  },
  {
   "cell_type": "code",
   "execution_count": 8,
   "metadata": {},
   "outputs": [],
   "source": [
    "\n",
    "# Set up retriever and QA pipeline\n",
    "retriever = db.as_retriever(search_kwargs={\"k\": 4})\n",
    "qa = RetrievalQA.from_chain_type(llm=llm, chain_type=\"refine\", retriever=retriever, return_source_documents=False)\n"
   ]
  },
  {
   "cell_type": "code",
   "execution_count": 11,
   "metadata": {},
   "outputs": [
    {
     "data": {
      "text/plain": [
       "['def1769c-7ce8-4f4c-9509-7ad1bd57a4a6',\n",
       " '4c910a86-3df5-434d-98ef-271db56b5260',\n",
       " 'e4836dca-319c-4b41-8a36-868ee1557522',\n",
       " '0291d74e-f241-4ea0-bc9e-5c15308df9b0',\n",
       " '688a2109-8184-40ce-8374-e973adfac560',\n",
       " '88e99fb4-da21-436c-a08d-2952912ea4ba',\n",
       " '69c9f52a-845d-4e0a-964b-043aa2a0dc92',\n",
       " 'e832ce41-766a-47ef-92d0-edce522d5aed',\n",
       " '1af58cbd-1125-40c3-a7bf-c07b2a5e6340',\n",
       " '90255f01-224d-4d8e-97e5-af8156c7e754',\n",
       " '58ae9dc3-a9e0-48f9-9495-a69c88cd7b05',\n",
       " '5c50b24f-a9c3-4116-b8c5-fd65664025dd',\n",
       " '4436ca60-6bc6-445c-ac15-b73be3c8e339',\n",
       " '8fea0c7f-3acb-408e-8389-6dc4cb39b36e',\n",
       " 'd9b43823-c1d9-4fdb-b8b7-bca87bb408fa',\n",
       " 'c28997ad-5382-498f-b45a-ab3e1b9f2146',\n",
       " '2162fd47-3452-4237-9108-ad23c433c03c',\n",
       " '6618fa64-0c7a-41a7-b018-40ae9ae5e7a9',\n",
       " '118622fc-beea-434a-8c43-e98a6bea231a',\n",
       " '835e747c-859b-49ef-a660-cbf629ef524c',\n",
       " '49667368-f267-4a54-bc18-d21a6af9a283',\n",
       " '1f118db2-dc37-4d6c-b0e8-b3ce5f181d54',\n",
       " 'c17334a8-c112-4fdf-9c31-c3e0bce705aa',\n",
       " '1f83bffa-d968-4bb0-99a3-7bbf99e9f536',\n",
       " 'df5db8c5-badd-4548-8987-73eb6bcadd91',\n",
       " 'efd2e8ca-232d-488e-8b2c-0f7e564a9f22',\n",
       " 'b96bb8db-ace6-460b-b661-f88d00f9d7b0',\n",
       " '45250872-85a6-4be1-a478-31aede66a03c',\n",
       " '750a3390-3974-4eee-a329-72f7f06ccc18',\n",
       " 'c73dd844-d710-4e7a-92df-165532b54d94',\n",
       " 'f3d0d653-f254-4771-b0b8-a35855d03071',\n",
       " '1872beff-dbdb-491b-904e-465a2147e51a',\n",
       " '6f8926bb-0e93-4f14-a20f-ff5c37eb1fbb',\n",
       " '9e5fd6fb-c28a-44b5-8e00-778b9a05530c',\n",
       " '95b14554-f19c-4cc4-8be5-5b63a9ab8890',\n",
       " '217fcc43-a40a-4710-937a-8716251aee9a',\n",
       " '8e693237-bb0c-48ec-9968-2144e1081c21',\n",
       " '2f39aec3-e34a-40a7-a1fa-1804510bc6db',\n",
       " 'a5e6293d-2a9e-46ad-a772-eca03490f39c',\n",
       " '9421684e-38c4-4919-ae8d-d2a6ebbf5457',\n",
       " '3d66a0e7-e470-40fe-b184-fc27693c7fc1',\n",
       " '0a07f00d-a4b9-4e6e-8677-70ec51295387',\n",
       " 'ad8f76ec-3810-4d27-a1ad-ed69896a6658',\n",
       " 'b96659c2-de60-4e08-8fb4-4b9f21b89653',\n",
       " '9933c690-aed9-4b73-99f3-5ddc7858c594',\n",
       " 'd8627399-49b6-4301-b210-6b7bde252e38',\n",
       " '78f1ac88-e1c3-4509-9c54-ab03dfc54621',\n",
       " 'af40e20b-1539-409f-956f-634e582b7700',\n",
       " '70588c66-b501-4e50-8041-e2ab6b609be5',\n",
       " '58080812-9ef1-42c0-b7e2-f231e7b970ed',\n",
       " '020cfa44-6e0a-44fa-8311-833dd439bcec',\n",
       " '855335b8-716e-468b-9bc1-e948878ee2b7',\n",
       " '9cf61a2a-9304-46e5-a436-0f2025c2131f',\n",
       " 'f30aaa26-4034-41de-92e8-a3a0fc911fcb',\n",
       " 'c758ae38-1ad5-4060-966a-a2805f0d32c3',\n",
       " 'bc46acce-3082-40e3-97e3-d59227c91b7d',\n",
       " 'adde26fb-ed0d-4895-b40e-700dcf7fd2ac',\n",
       " 'ff32f510-ecc8-4b3d-bf86-5d3b6da975bb',\n",
       " '24e5f6d6-cb6d-42d3-9f12-26543bd8b7b7',\n",
       " '469aa544-2d5b-435c-9903-80f898241eb8',\n",
       " '397d645a-eb57-44e9-9848-90302c1466a5',\n",
       " '87988ea3-74ad-48e2-9441-2ed90de77320',\n",
       " '808fd144-ac8f-476a-be39-3c77a2a52f65',\n",
       " 'e4526363-aa01-4f17-957c-62f6c0e6351a',\n",
       " '4da3cbb7-c405-44a7-84e2-4d466340c653',\n",
       " '8abbdfd8-528a-4da2-b087-3368ab0872d0',\n",
       " 'fba66341-bd61-4348-b0af-95c1e6d8f1aa',\n",
       " '8f8c6614-9987-4f07-bdd9-653cb2bd5bd2',\n",
       " '35cf14d6-b46f-45c8-a6aa-82015cc2c525',\n",
       " 'af2ad9fb-7eb2-4155-8fe2-f6f7b2a4ffa0',\n",
       " '363c7b8a-36e5-4b81-b226-3cd035789a5f',\n",
       " 'b7bc0ca2-9eac-4f21-ba37-882dfacec887',\n",
       " '6d4e129b-df67-46cf-b4c7-af1f7f94ad64',\n",
       " '00691add-f9e5-4854-9be2-dc069e66d082',\n",
       " 'c99f1e64-76ed-4056-83f7-d45ceaf16a7b',\n",
       " '38a4a5e0-de27-480d-baa7-1b9ccab7b766',\n",
       " '51a96da1-ac6f-41ff-8d5c-0d8a098480a0',\n",
       " 'c2c26a59-195a-4155-ae68-8a23fd5d4e9d',\n",
       " 'edd99fbb-ce96-4080-8243-047ecf213c8b',\n",
       " 'e01c43bf-3f2c-4d90-a570-e89793653371',\n",
       " '0db2955a-7748-45aa-90aa-2edb47a315cd',\n",
       " '0a78106b-564d-416d-9688-07da2e16b83f',\n",
       " '60702519-f077-48f7-b068-013d77afaeee',\n",
       " 'fb29133c-f7b0-4638-b4b2-a8be2d17c534',\n",
       " '19e52876-31fd-45b5-93f3-4fea4f186771',\n",
       " '7a2e077a-3800-4ea6-8193-7a34970d09e5',\n",
       " '9dfc54d4-3e9f-4746-9095-3248041d7fd5',\n",
       " 'eb61f87c-46b6-4b5d-ba2f-e42e6beb7d6c',\n",
       " 'c887c5e8-fbe0-498b-9a3a-471240c6ac8d',\n",
       " '6df94672-7747-4e6e-8db9-5df968995bdf',\n",
       " '5331fccf-51c9-44f1-a3a7-5f94767c85a5',\n",
       " 'ed85136c-d5db-475f-8b6e-5a3aa37139d8',\n",
       " 'ac4bccb0-8030-455c-b2fb-836480ae7676',\n",
       " 'cd0ea054-32d4-4634-94c8-a01086599667',\n",
       " 'bc3001ad-79cd-4a82-bc6c-1d6779426fe3',\n",
       " '12490479-5252-4547-93b4-acd6edfd8932',\n",
       " '57bf68ce-e5df-4fb2-927d-cea15dcf931a',\n",
       " 'f461b730-d628-4013-9ef7-6b50691b339b',\n",
       " 'b701fa8e-1344-4149-9496-5c2dc6cc2c90',\n",
       " '23aeeea9-455c-4ba1-9672-3992212e5cd8',\n",
       " '4f43d973-b381-4ebe-9be2-cda97ab8d26e',\n",
       " '7d911074-93a6-4ae3-84ff-4e727ebda167',\n",
       " '5cbfa28e-9245-41cc-a434-2ebb73863863',\n",
       " 'fde713ee-bd43-4158-83f6-34e87381ae05',\n",
       " 'bff00f4b-d117-4c09-8f10-29d2dac71b38',\n",
       " 'bedbcd94-2730-4c10-8338-32b1899fe84b',\n",
       " 'fb444f0c-e476-45e0-ab9c-4c429f66b855',\n",
       " '2e624bd7-2f16-46b2-ad09-cc754037b291',\n",
       " '444f00b2-1331-4ef5-9553-292159c0ccdf',\n",
       " 'b6858fea-471a-4538-abdf-42240ffc436c',\n",
       " '735e646a-979e-48d0-9fae-beefae6facc8',\n",
       " '85b7bc19-d4ab-46b3-8e55-afb71e454561',\n",
       " 'ff2863dd-8596-47c7-bd8b-975d415c72ad',\n",
       " '77989fef-c77b-4038-b1f5-31bca654d687',\n",
       " 'ee8c8c08-aca7-43f3-ac8f-5420d5ff1b7f',\n",
       " '06ae09ed-8a40-4ab8-a753-6f1f958cb492',\n",
       " 'c35757ee-7ba3-4bea-a95d-4555b66edbc1',\n",
       " '544fffae-ec3f-4033-bc0e-951d8374e984',\n",
       " '060d18f2-c5ec-437e-8717-4a72dc7374be',\n",
       " '75882b06-ed3c-4cbd-8e8e-c34e2c99586f',\n",
       " 'de6368c7-c57d-44c2-aa6c-56884e8f33e4',\n",
       " '50cab988-dfa2-4310-8221-30aa26bdf33a',\n",
       " 'fba05f65-2cd9-4393-96e7-f038dfed8524',\n",
       " 'f3e8a881-ba76-49b5-b303-93a40c136e32',\n",
       " '37441b3e-9f35-43d7-972a-4af0c34d7273',\n",
       " '879c42a8-f51a-4cc1-9f42-df117fadeb3f',\n",
       " '502bf56b-4545-4057-8127-473864dc9677',\n",
       " 'a90393d2-c4ac-497d-9a6a-f92f3c0b31ca',\n",
       " 'cd416a06-41e7-46ef-98f9-e362b14a5d72',\n",
       " 'e2b0c4be-1fc2-47c0-97f5-19dec44dedf2',\n",
       " '8b22235b-74de-4674-9e2a-983b9ec912e1',\n",
       " 'e7e7a5cc-8e67-4a95-845d-c8e5cf1147e1',\n",
       " '4bebfb5f-70bf-47f9-8937-b6198add330b',\n",
       " 'ed6c226a-3070-43ca-8cf1-00256cd00740',\n",
       " 'c045863f-8c75-45c9-96ba-a43269614062',\n",
       " '78a59b76-c44b-4d0b-9f74-92ae5da66263',\n",
       " 'e3393af7-501f-4003-9bd8-f1362cb8bf86',\n",
       " '750dd280-2b69-42a6-8e9d-1ad7ee759b47',\n",
       " 'd879a6c4-975e-4151-833e-7e87a3188db8',\n",
       " 'd0479664-26e3-4b2d-a85c-664c33d63c77',\n",
       " 'f9198cba-7c83-48a9-8407-02b64d9eba7a']"
      ]
     },
     "execution_count": 11,
     "metadata": {},
     "output_type": "execute_result"
    }
   ],
   "source": [
    "# Define function to fetch posts from a WordPress site\n",
    "def fetch_wordpress_posts(base_url, count=15, post_type='posts'):\n",
    "    url = f\"{base_url}/wp-json/wp/v2/{post_type}\"\n",
    "    params = {'per_page': count}\n",
    "    response = requests.get(url, params=params)\n",
    "    response.raise_for_status()\n",
    "    return response.json()\n",
    "\n",
    "# Load WordPress posts and add to vector store\n",
    "wp_data = fetch_wordpress_posts(BASE_URL)\n",
    "wp_docs = [Document(page_content=doc['content']['rendered']) for doc in wp_data]\n",
    "wp_docs_split = text_splitter.split_documents(wp_docs)\n",
    "db.add_documents(wp_docs_split)\n"
   ]
  },
  {
   "cell_type": "code",
   "execution_count": 12,
   "metadata": {},
   "outputs": [],
   "source": [
    "\n",
    "# Define function to process user queries\n",
    "def answer_question(final_question):\n",
    "    wp_search_docs = db.similarity_search(final_question)\n",
    "    context = \" \".join([doc.page_content for doc in wp_search_docs])\n",
    "    qa_input = {\"question\": final_question, \"context\": context}\n",
    "    final_answer = question_answerer(qa_input)\n",
    "    return final_answer['answer']\n"
   ]
  },
  {
   "cell_type": "code",
   "execution_count": 13,
   "metadata": {},
   "outputs": [],
   "source": [
    "\n",
    "@app.route('/chat', methods=['POST'])\n",
    "def chat():\n",
    "    user_query = request.json.get('query')\n",
    "    answer = answer_question(user_query)\n",
    "    return jsonify(response=answer)\n"
   ]
  },
  {
   "cell_type": "code",
   "execution_count": 18,
   "metadata": {},
   "outputs": [],
   "source": [
    "@app.route('/retrievee', methods=['POST'])\n",
    "def retrievee():\n",
    "    query = request.json.get('query')\n",
    "    wp_search_docs = db.similarity_search(query)\n",
    "    retrieved_docs = [{\"content\": doc.page_content} for doc in wp_search_docs]\n",
    "    return jsonify(docs=retrieved_docs)"
   ]
  },
  {
   "cell_type": "code",
   "execution_count": 19,
   "metadata": {},
   "outputs": [
    {
     "name": "stdout",
     "output_type": "stream",
     "text": [
      " * Serving Flask app '__main__'\n",
      " * Debug mode: off\n"
     ]
    },
    {
     "name": "stderr",
     "output_type": "stream",
     "text": [
      "WARNING: This is a development server. Do not use it in a production deployment. Use a production WSGI server instead.\n",
      " * Running on all addresses (0.0.0.0)\n",
      " * Running on http://127.0.0.1:5000\n",
      " * Running on http://192.168.145.208:5000\n",
      "Press CTRL+C to quit\n",
      "127.0.0.1 - - [02/Jul/2024 16:25:43] \"GET / HTTP/1.1\" 404 -\n",
      "127.0.0.1 - - [02/Jul/2024 16:25:44] \"HEAD / HTTP/1.1\" 404 -\n",
      "127.0.0.1 - - [02/Jul/2024 16:25:44] \"HEAD / HTTP/1.1\" 404 -\n",
      "127.0.0.1 - - [02/Jul/2024 16:25:44] \"HEAD / HTTP/1.1\" 404 -\n",
      "127.0.0.1 - - [02/Jul/2024 16:25:45] \"GET /favicon.ico HTTP/1.1\" 404 -\n",
      "127.0.0.1 - - [02/Jul/2024 16:25:45] \"HEAD / HTTP/1.1\" 404 -\n",
      "127.0.0.1 - - [02/Jul/2024 16:25:45] \"HEAD / HTTP/1.1\" 404 -\n",
      "127.0.0.1 - - [02/Jul/2024 16:26:35] \"OPTIONS /chat HTTP/1.1\" 200 -\n",
      "127.0.0.1 - - [02/Jul/2024 16:26:58] \"OPTIONS /chat HTTP/1.1\" 200 -\n",
      "127.0.0.1 - - [02/Jul/2024 16:29:09] \"OPTIONS /chat HTTP/1.1\" 200 -\n",
      "127.0.0.1 - - [02/Jul/2024 16:33:26] \"POST /chat HTTP/1.1\" 200 -\n",
      "127.0.0.1 - - [02/Jul/2024 16:33:28] \"POST /retrieve HTTP/1.1\" 200 -\n",
      "127.0.0.1 - - [02/Jul/2024 17:05:22] \"POST /chat HTTP/1.1\" 200 -\n",
      "127.0.0.1 - - [02/Jul/2024 17:09:00] \"POST /chat HTTP/1.1\" 200 -\n",
      "127.0.0.1 - - [02/Jul/2024 17:09:27] \"POST /chat HTTP/1.1\" 200 -\n",
      "127.0.0.1 - - [02/Jul/2024 17:10:07] \"POST /chat HTTP/1.1\" 200 -\n",
      "127.0.0.1 - - [02/Jul/2024 17:11:20] \"POST /chat HTTP/1.1\" 200 -\n",
      "127.0.0.1 - - [02/Jul/2024 17:12:02] \"POST /chat HTTP/1.1\" 200 -\n",
      "127.0.0.1 - - [02/Jul/2024 18:01:00] \"POST /chat HTTP/1.1\" 200 -\n"
     ]
    }
   ],
   "source": [
    "\n",
    "if __name__ == '__main__':\n",
    "    app.run(host='0.0.0.0', port=5000)\n"
   ]
  }
 ],
 "metadata": {
  "kernelspec": {
   "display_name": "Python 3",
   "language": "python",
   "name": "python3"
  },
  "language_info": {
   "codemirror_mode": {
    "name": "ipython",
    "version": 3
   },
   "file_extension": ".py",
   "mimetype": "text/x-python",
   "name": "python",
   "nbconvert_exporter": "python",
   "pygments_lexer": "ipython3",
   "version": "3.11.4"
  }
 },
 "nbformat": 4,
 "nbformat_minor": 2
}
